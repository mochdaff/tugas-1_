{
  "nbformat": 4,
  "nbformat_minor": 0,
  "metadata": {
    "colab": {
      "provenance": [],
      "authorship_tag": "ABX9TyNcvcjWHkAxKOJGoJ7jbL8C",
      "include_colab_link": true
    },
    "kernelspec": {
      "name": "python3",
      "display_name": "Python 3"
    },
    "language_info": {
      "name": "python"
    }
  },
  "cells": [
    {
      "cell_type": "markdown",
      "metadata": {
        "id": "view-in-github",
        "colab_type": "text"
      },
      "source": [
        "<a href=\"https://colab.research.google.com/github/mochdaff/tugas-1_/blob/main/Untitled3.ipynb\" target=\"_parent\"><img src=\"https://colab.research.google.com/assets/colab-badge.svg\" alt=\"Open In Colab\"/></a>"
      ]
    },
    {
      "cell_type": "code",
      "execution_count": 1,
      "metadata": {
        "colab": {
          "base_uri": "https://localhost:8080/"
        },
        "id": "XBwlmGM8L7bq",
        "outputId": "acd3eae4-6762-49ee-8d38-2b7910b2b844"
      },
      "outputs": [
        {
          "output_type": "stream",
          "name": "stdout",
          "text": [
            "Akar ditemukan: 2.7060546875\n"
          ]
        }
      ],
      "source": [
        "\n",
        "# Mencari akar fungsi menggunakan metode Bagi Dua\n",
        "def fungsi(x):\n",
        "    return x**3 - 4*x - 9\n",
        "\n",
        "def bisection(a, b, toleransi):\n",
        "    if fungsi(a) * fungsi(b) >= 0:\n",
        "        print(\"Metode tidak dapat digunakan.\")\n",
        "        return None\n",
        "\n",
        "    while (b - a) / 2 > toleransi:\n",
        "        c = (a + b) / 2\n",
        "        if fungsi(c) == 0:\n",
        "            return c\n",
        "        elif fungsi(a) * fungsi(c) < 0:\n",
        "            b = c\n",
        "        else:\n",
        "            a = c\n",
        "    return (a + b) / 2\n",
        "\n",
        "akar = bisection(2, 3, 0.001)\n",
        "print(\"Akar ditemukan:\", akar)"
      ]
    }
  ]
}